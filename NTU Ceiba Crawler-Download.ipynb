{
 "cells": [
  {
   "cell_type": "markdown",
   "metadata": {},
   "source": [
    "# NTU Ceiba Crawler : Download"
   ]
  },
  {
   "cell_type": "markdown",
   "metadata": {},
   "source": [
    "## Documentation\n",
    "[Selenium Webdriver Documentation](https://www.selenium.dev/documentation/en/)"
   ]
  },
  {
   "cell_type": "markdown",
   "metadata": {},
   "source": [
    "## Get Started"
   ]
  },
  {
   "cell_type": "code",
   "execution_count": null,
   "metadata": {},
   "outputs": [],
   "source": [
    "chromedriver = 'chromedriver_path'\n",
    "\n",
    "# class name\n",
    "class_name = \"class\"\n",
    "hw_name = 'homework_name'\n",
    "\n",
    "# NTU TA account & password\n",
    "account_usr = \"id\"\n",
    "password_usr = \"password\"\n",
    "\n",
    "# the path of downloads & the path you want to save\n",
    "oldpath = \"download_path\"\n",
    "newpath = \"save_path\""
   ]
  },
  {
   "cell_type": "markdown",
   "metadata": {},
   "source": [
    "## Import Package"
   ]
  },
  {
   "cell_type": "code",
   "execution_count": null,
   "metadata": {},
   "outputs": [],
   "source": [
    "from selenium import webdriver\n",
    "from time import sleep\n",
    "import os\n",
    "import shutil"
   ]
  },
  {
   "cell_type": "markdown",
   "metadata": {},
   "source": [
    "## Open webdriver"
   ]
  },
  {
   "cell_type": "code",
   "execution_count": null,
   "metadata": {},
   "outputs": [],
   "source": [
    "driver = webdriver.Chrome(chromedriver)"
   ]
  },
  {
   "cell_type": "code",
   "execution_count": null,
   "metadata": {},
   "outputs": [],
   "source": [
    "driver.get(\"website_to_crawl\")\n",
    "sleep(1)"
   ]
  },
  {
   "cell_type": "code",
   "execution_count": null,
   "metadata": {},
   "outputs": [],
   "source": [
    "sign = driver.find_element_by_xpath('//*[@id=\"login\"]/div/div/div/div/div/div/div/div/p[1]/input[2]')\n",
    "sign.click()\n",
    "sleep(1)"
   ]
  },
  {
   "cell_type": "code",
   "execution_count": null,
   "metadata": {},
   "outputs": [],
   "source": [
    "account = driver.find_element_by_xpath('//*[@id=\"obj2\"]/form/p[1]/input[1]')\n",
    "account.send_keys(account_usr)\n",
    "\n",
    "password = driver.find_element_by_xpath('//*[@id=\"obj2\"]/form/p[1]/input[2]')\n",
    "password.send_keys(password_usr)\n",
    "sleep(1)"
   ]
  },
  {
   "cell_type": "code",
   "execution_count": null,
   "metadata": {},
   "outputs": [],
   "source": [
    "enter = driver.find_element_by_xpath('//*[@id=\"obj2\"]/form/p[2]/input[1]')\n",
    "enter.click()\n",
    "sleep(1)"
   ]
  },
  {
   "cell_type": "markdown",
   "metadata": {},
   "source": [
    "## Check the course title"
   ]
  },
  {
   "cell_type": "code",
   "execution_count": null,
   "metadata": {},
   "outputs": [],
   "source": [
    "course = driver.find_elements_by_css_selector('td:nth-child(5) a')\n",
    "for ii in range(len(course)):\n",
    "    if course[ii].text == class_name:\n",
    "        print(course[ii].text)\n",
    "        ind = ii"
   ]
  },
  {
   "cell_type": "code",
   "execution_count": null,
   "metadata": {},
   "outputs": [],
   "source": [
    "title = driver.find_element_by_xpath('//*[@id=\"main\"]/table/tbody/tr[%d]/td[5]/a' % (ind+2))\n",
    "sleep(1)"
   ]
  },
  {
   "cell_type": "code",
   "execution_count": null,
   "metadata": {},
   "outputs": [],
   "source": [
    "driver.find_element_by_xpath('//*[@id=\"main\"]/table/tbody/tr[%d]/td[7]/input' % (ind+2)).click()\n",
    "sleep(1)"
   ]
  },
  {
   "cell_type": "code",
   "execution_count": null,
   "metadata": {},
   "outputs": [],
   "source": [
    "driver.find_element_by_xpath('//*[@id=\"control\"]/tbody/tr[15]/td[3]/input').click()\n",
    "sleep(1)"
   ]
  },
  {
   "cell_type": "markdown",
   "metadata": {},
   "source": [
    "## Check the homework name"
   ]
  },
  {
   "cell_type": "code",
   "execution_count": null,
   "metadata": {},
   "outputs": [],
   "source": [
    "homework = driver.find_elements_by_css_selector('td:nth-child(2)')\n",
    "\n",
    "for ii in range(len(homework)):\n",
    "    if homework[ii].text == hw_name:\n",
    "        print(homework[ii].text)\n",
    "        index = ii"
   ]
  },
  {
   "cell_type": "code",
   "execution_count": null,
   "metadata": {},
   "outputs": [],
   "source": [
    "driver.find_element_by_xpath('//*[@id=\"nav_sect\"]/li[2]/a').click()\n",
    "sleep(1)"
   ]
  },
  {
   "cell_type": "code",
   "execution_count": null,
   "metadata": {},
   "outputs": [],
   "source": [
    "correct = driver.find_element_by_xpath('//*[@id=\"sect_cont\"]/table/tbody/tr[%d]/td[7]/input' % (index+2))\n",
    "correct.click()\n",
    "sleep(1)"
   ]
  },
  {
   "cell_type": "code",
   "execution_count": null,
   "metadata": {},
   "outputs": [],
   "source": [
    "driver.find_element_by_xpath('//*[@id=\"hw_corr_list\"]/div[2]/a').click()\n",
    "sleep(1)"
   ]
  },
  {
   "cell_type": "code",
   "execution_count": null,
   "metadata": {},
   "outputs": [],
   "source": [
    "std = driver.find_elements_by_css_selector('td:nth-child(4) span')"
   ]
  },
  {
   "cell_type": "markdown",
   "metadata": {},
   "source": [
    "## Download homework file"
   ]
  },
  {
   "cell_type": "code",
   "execution_count": null,
   "metadata": {
    "scrolled": false
   },
   "outputs": [],
   "source": [
    "complete = 0\n",
    "miss = 0\n",
    "\n",
    "for ii in range(len(std)):\n",
    "    ff = driver.find_element_by_xpath('//*[@id=\"hw_corr_list\"]/table/tbody/tr[%d]/td[8]' % (ii+2))\n",
    "    ID = driver.find_element_by_xpath('//*[@id=\"hw_corr_list\"]/table/tbody/tr[%d]/td[3]' % (ii+2))\n",
    "    name = std[ii].text\n",
    "    if ff.text == ' ':\n",
    "        print(ID.text, name, \"missing\")\n",
    "        \n",
    "        miss = miss + 1\n",
    "        sleep(1)\n",
    "        \n",
    "    else:\n",
    "        download = driver.find_element_by_xpath('//*[@id=\"hw_corr_list\"]/table/tbody/tr[%d]/td[8]/a' % (ii+2))\n",
    "        download.click()\n",
    "        sleep(5)\n",
    "        \n",
    "        complete = complete + 1\n",
    "        \n",
    "print(\"download complete\", complete)\n",
    "print(\"missing\", miss)"
   ]
  },
  {
   "cell_type": "code",
   "execution_count": null,
   "metadata": {},
   "outputs": [],
   "source": [
    "for ii in range((len(std)-1), -1, -1):\n",
    "    ff = driver.find_element_by_xpath('//*[@id=\"hw_corr_list\"]/table/tbody/tr[%d]/td[8]' % (ii+2))\n",
    "    ID = driver.find_element_by_xpath('//*[@id=\"hw_corr_list\"]/table/tbody/tr[%d]/td[3]' % (ii+2))\n",
    "    name = std[ii].text\n",
    "    if ff.text == ' ':\n",
    "        print(ID.text, name, \"missing\")\n",
    "        sleep(1)\n",
    "        \n",
    "    else :\n",
    "        fs = os.listdir(oldpath)\n",
    "        paths = [os.path.join(oldpath, name) for name in fs]\n",
    "        tfile = max(paths, key=os.path.getctime)\n",
    "        ftype = os.path.splitext(tfile)[1]\n",
    "        newname = os.path.join(oldpath, name+ftype)\n",
    "        os.rename(tfile, newname)\n",
    "        finalname = os.path.join(newpath, name+ftype)\n",
    "        shutil.move(newname, finalname)\n",
    "        "
   ]
  },
  {
   "cell_type": "markdown",
   "metadata": {},
   "source": [
    "## Close Browser"
   ]
  },
  {
   "cell_type": "code",
   "execution_count": null,
   "metadata": {},
   "outputs": [],
   "source": [
    "driver.quit()"
   ]
  },
  {
   "cell_type": "code",
   "execution_count": null,
   "metadata": {},
   "outputs": [],
   "source": []
  },
  {
   "cell_type": "code",
   "execution_count": null,
   "metadata": {},
   "outputs": [],
   "source": []
  }
 ],
 "metadata": {
  "kernelspec": {
   "display_name": "Python 3",
   "language": "python",
   "name": "python3"
  },
  "language_info": {
   "codemirror_mode": {
    "name": "ipython",
    "version": 3
   },
   "file_extension": ".py",
   "mimetype": "text/x-python",
   "name": "python",
   "nbconvert_exporter": "python",
   "pygments_lexer": "ipython3",
   "version": "3.8.3"
  }
 },
 "nbformat": 4,
 "nbformat_minor": 4
}
