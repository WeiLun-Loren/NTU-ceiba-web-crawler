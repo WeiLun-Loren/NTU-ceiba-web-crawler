{
 "cells": [
  {
   "cell_type": "markdown",
   "metadata": {},
   "source": [
    "# NTU Ceiba Crawler : Upload"
   ]
  },
  {
   "cell_type": "markdown",
   "metadata": {},
   "source": [
    "## Documentation\n",
    "[Selenium Webdriver Documentation](https://www.selenium.dev/documentation/en/)"
   ]
  },
  {
   "cell_type": "markdown",
   "metadata": {},
   "source": [
    "## Get Started"
   ]
  },
  {
   "cell_type": "code",
   "execution_count": null,
   "metadata": {},
   "outputs": [],
   "source": [
    "chromedriver = 'chromedriver_path'\n",
    "\n",
    "# class name\n",
    "class_name = \"class\"\n",
    "hw_name = 'homework_name'\n",
    "hw_score = 'score_max'\n",
    "\n",
    "# NTU TA account & password\n",
    "account_usr = \"id\"\n",
    "password_usr = \"password\"\n",
    "\n",
    "# the path of downloads & the path you want to save\n",
    "scorefile = \"scorefile_local_path\"\n",
    "\n",
    "# Results announcement in private/public/no\n",
    "hw_announce = \"private\""
   ]
  },
  {
   "cell_type": "markdown",
   "metadata": {},
   "source": [
    "## Import Package"
   ]
  },
  {
   "cell_type": "code",
   "execution_count": null,
   "metadata": {},
   "outputs": [],
   "source": [
    "from selenium import webdriver\n",
    "from selenium.webdriver.support.ui import WebDriverWait\n",
    "from selenium.webdriver.support import expected_conditions as EC\n",
    "from selenium.common.exceptions import TimeoutException\n",
    "from time import sleep\n",
    "import os\n",
    "import shutil\n",
    "import csv\n",
    "import numpy as np"
   ]
  },
  {
   "cell_type": "markdown",
   "metadata": {},
   "source": [
    "## Read score csv"
   ]
  },
  {
   "cell_type": "code",
   "execution_count": null,
   "metadata": {},
   "outputs": [],
   "source": [
    "with open(scorefile, newline='', encoding='utf-8') as csvfile:\n",
    "    rows = csv.reader(csvfile)\n",
    "    data = [row for row in rows]"
   ]
  },
  {
   "cell_type": "code",
   "execution_count": null,
   "metadata": {},
   "outputs": [],
   "source": [
    "data = np.asarray(data)\n",
    "data[1:5]"
   ]
  },
  {
   "cell_type": "markdown",
   "metadata": {},
   "source": [
    "## Open webdriver"
   ]
  },
  {
   "cell_type": "code",
   "execution_count": null,
   "metadata": {},
   "outputs": [],
   "source": [
    "driver = webdriver.Chrome(chromedriver)"
   ]
  },
  {
   "cell_type": "code",
   "execution_count": null,
   "metadata": {},
   "outputs": [],
   "source": [
    "driver.get(\"https://ceiba.ntu.edu.tw/index.php\")\n",
    "sleep(1)"
   ]
  },
  {
   "cell_type": "code",
   "execution_count": null,
   "metadata": {},
   "outputs": [],
   "source": [
    "sign = driver.find_element_by_xpath('//*[@id=\"login\"]/div/div/div/div/div/div/div/div/p[1]/input[2]')\n",
    "sign.click()\n",
    "sleep(1)"
   ]
  },
  {
   "cell_type": "code",
   "execution_count": null,
   "metadata": {},
   "outputs": [],
   "source": [
    "account = driver.find_element_by_xpath('//*[@id=\"obj2\"]/form/p[1]/input[1]')\n",
    "account.send_keys(account_usr)\n",
    "\n",
    "password = driver.find_element_by_xpath('//*[@id=\"obj2\"]/form/p[1]/input[2]')\n",
    "password.send_keys(password_usr)\n",
    "sleep(1)"
   ]
  },
  {
   "cell_type": "code",
   "execution_count": null,
   "metadata": {},
   "outputs": [],
   "source": [
    "enter = driver.find_element_by_xpath('//*[@id=\"obj2\"]/form/p[2]/input[1]')\n",
    "enter.click()\n",
    "sleep(1)"
   ]
  },
  {
   "cell_type": "markdown",
   "metadata": {},
   "source": [
    "## Check the course title"
   ]
  },
  {
   "cell_type": "code",
   "execution_count": null,
   "metadata": {},
   "outputs": [],
   "source": [
    "course = driver.find_elements_by_css_selector('td:nth-child(5) a')\n",
    "for ii in range(len(course)):\n",
    "    if course[ii].text == class_name:\n",
    "        print(course[ii].text)\n",
    "        ind = ii"
   ]
  },
  {
   "cell_type": "code",
   "execution_count": null,
   "metadata": {},
   "outputs": [],
   "source": [
    "title = driver.find_element_by_xpath('//*[@id=\"main\"]/table/tbody/tr[%d]/td[5]/a' % (ind+2))"
   ]
  },
  {
   "cell_type": "code",
   "execution_count": null,
   "metadata": {},
   "outputs": [],
   "source": [
    "driver.find_element_by_xpath('//*[@id=\"main\"]/table/tbody/tr[%d]/td[7]/input' % (ind+2)).click()\n",
    "sleep(1)"
   ]
  },
  {
   "cell_type": "code",
   "execution_count": null,
   "metadata": {},
   "outputs": [],
   "source": [
    "driver.find_element_by_xpath('//*[@id=\"control\"]/tbody/tr[15]/td[3]/input').click()\n",
    "sleep(1)\n",
    "driver.find_element_by_xpath('//*[@id=\"nav_sect\"]/li[2]/a').click()\n",
    "sleep(1)"
   ]
  },
  {
   "cell_type": "markdown",
   "metadata": {},
   "source": [
    "## Check the homework name"
   ]
  },
  {
   "cell_type": "code",
   "execution_count": null,
   "metadata": {},
   "outputs": [],
   "source": [
    "homework = driver.find_elements_by_css_selector('td:nth-child(2)')\n",
    "\n",
    "for ii in range(len(homework)):\n",
    "    if homework[ii].text == hw_name:\n",
    "        print(homework[ii].text)\n",
    "        index = ii"
   ]
  },
  {
   "cell_type": "markdown",
   "metadata": {},
   "source": [
    "## Control the announce to private/public"
   ]
  },
  {
   "cell_type": "code",
   "execution_count": null,
   "metadata": {},
   "outputs": [],
   "source": [
    "if hw_announce == \"public\":\n",
    "    ind = 0\n",
    "elif hw_announce == \"private\":\n",
    "    ind = 1\n",
    "else:\n",
    "    ind = 2 \n",
    "\n",
    "announce = driver.find_element_by_xpath('//*[@id=\"sect_cont\"]/table/tbody/tr[%d]/td[8]/select/option[%d]' % (index+2, ind+2))\n",
    "announce.click()\n",
    "\n",
    "try:\n",
    "    WebDriverWait(driver, 3).until(EC.alert_is_present(),\n",
    "                                   'Timed out waiting for PA creation ' +\n",
    "                                   'confirmation popup to appear.')\n",
    "\n",
    "    alert = driver.switch_to.alert.accept()\n",
    "    print(\"alert accepted\")\n",
    "except TimeoutException:\n",
    "    print(\"no alert\")"
   ]
  },
  {
   "cell_type": "code",
   "execution_count": null,
   "metadata": {},
   "outputs": [],
   "source": [
    "correct = driver.find_element_by_xpath('//*[@id=\"sect_cont\"]/table/tbody/tr[%d]/td[7]/input' % (index+2))\n",
    "correct.click()\n",
    "sleep(1)"
   ]
  },
  {
   "cell_type": "code",
   "execution_count": null,
   "metadata": {},
   "outputs": [],
   "source": [
    "driver.find_element_by_xpath('//*[@id=\"hw_corr_list\"]/div[2]/a').click()\n",
    "sleep(1)"
   ]
  },
  {
   "cell_type": "markdown",
   "metadata": {},
   "source": [
    "## Upload score"
   ]
  },
  {
   "cell_type": "code",
   "execution_count": null,
   "metadata": {},
   "outputs": [],
   "source": [
    "std = driver.find_elements_by_css_selector('td:nth-child(4) span')"
   ]
  },
  {
   "cell_type": "code",
   "execution_count": null,
   "metadata": {},
   "outputs": [],
   "source": [
    "complete = 0\n",
    "incomplete = 0\n",
    "\n",
    "for ii in range(len(std)):\n",
    "    if std[ii].text == data[(ii+1), 4]:\n",
    "        xpath_score = '//*[@id=\"hw_corr_list\"]/table/tbody/tr[%d]/td[9]/input' % (ii+2)\n",
    "        score = driver.find_element_by_xpath(xpath_score)\n",
    "        score.clear()\n",
    "        score.send_keys(data[ii+1, 5])\n",
    "        \n",
    "        xpath_comment = '//*[@id=\"hw_corr_list\"]/table/tbody/tr[%d]/td[10]/textarea' % (ii+2)\n",
    "        comment = driver.find_element_by_xpath(xpath_comment)\n",
    "        comment.clear()\n",
    "        comment.send_keys(data[ii+1, 6])\n",
    "        \n",
    "        complete = complete + 1\n",
    "        sleep(1)\n",
    "        \n",
    "    else:\n",
    "        incomplete = incomplete + 1\n",
    "        \n",
    "print(\"complete\", complete)\n",
    "print(\"incomplete\", incomplete)"
   ]
  },
  {
   "cell_type": "markdown",
   "metadata": {},
   "source": [
    "## Save Pages"
   ]
  },
  {
   "cell_type": "code",
   "execution_count": null,
   "metadata": {},
   "outputs": [],
   "source": [
    "driver.find_element_by_xpath('//*[@id=\"btn_save\"]').click()"
   ]
  },
  {
   "cell_type": "markdown",
   "metadata": {},
   "source": [
    "## Close Browser"
   ]
  },
  {
   "cell_type": "code",
   "execution_count": null,
   "metadata": {},
   "outputs": [],
   "source": [
    "driver.quit()"
   ]
  },
  {
   "cell_type": "code",
   "execution_count": null,
   "metadata": {},
   "outputs": [],
   "source": []
  },
  {
   "cell_type": "code",
   "execution_count": null,
   "metadata": {},
   "outputs": [],
   "source": []
  },
  {
   "cell_type": "markdown",
   "metadata": {},
   "source": [
    "## Upload Grades"
   ]
  },
  {
   "cell_type": "code",
   "execution_count": null,
   "metadata": {},
   "outputs": [],
   "source": [
    "chromedriver = '/Users/loren/bin/chromedriver'\n",
    "driver = webdriver.Chrome(chromedriver)"
   ]
  },
  {
   "cell_type": "code",
   "execution_count": null,
   "metadata": {},
   "outputs": [],
   "source": [
    "driver.get(\"https://ceiba.ntu.edu.tw/index.php\")\n",
    "sleep(1)"
   ]
  },
  {
   "cell_type": "code",
   "execution_count": null,
   "metadata": {},
   "outputs": [],
   "source": [
    "sign = driver.find_element_by_xpath('//*[@id=\"login\"]/div/div/div/div/div/div/div/div/p[1]/input[2]')\n",
    "sign.click()\n",
    "sleep(1)"
   ]
  },
  {
   "cell_type": "code",
   "execution_count": null,
   "metadata": {},
   "outputs": [],
   "source": [
    "account = driver.find_element_by_xpath('//*[@id=\"obj2\"]/form/p[1]/input[1]')\n",
    "account.send_keys(account_usr)\n",
    "\n",
    "password = driver.find_element_by_xpath('//*[@id=\"obj2\"]/form/p[1]/input[2]')\n",
    "password.send_keys(password_usr)\n",
    "sleep(1)"
   ]
  },
  {
   "cell_type": "code",
   "execution_count": null,
   "metadata": {},
   "outputs": [],
   "source": [
    "enter = driver.find_element_by_xpath('//*[@id=\"obj2\"]/form/p[2]/input[1]')\n",
    "enter.click()\n",
    "sleep(1)"
   ]
  },
  {
   "cell_type": "code",
   "execution_count": null,
   "metadata": {},
   "outputs": [],
   "source": [
    "course = driver.find_elements_by_css_selector('td:nth-child(5) a')\n",
    "for ii in range(len(course)):\n",
    "    if course[ii].text == class_name:\n",
    "        print(course[ii].text)\n",
    "        ind = ii"
   ]
  },
  {
   "cell_type": "code",
   "execution_count": null,
   "metadata": {},
   "outputs": [],
   "source": [
    "title = driver.find_element_by_xpath('//*[@id=\"main\"]/table/tbody/tr[%d]/td[5]/a' % (ind+2))"
   ]
  },
  {
   "cell_type": "code",
   "execution_count": null,
   "metadata": {},
   "outputs": [],
   "source": [
    "driver.find_element_by_xpath('//*[@id=\"main\"]/table/tbody/tr[%d]/td[7]/input' % (ind+2)).click()\n",
    "sleep(1)"
   ]
  },
  {
   "cell_type": "code",
   "execution_count": null,
   "metadata": {},
   "outputs": [],
   "source": [
    "driver.find_element_by_xpath('//*[@id=\"control\"]/tbody/tr[19]/td[3]/input').click()"
   ]
  },
  {
   "cell_type": "code",
   "execution_count": null,
   "metadata": {
    "scrolled": true
   },
   "outputs": [],
   "source": [
    "hwcss = []\n",
    "for ii in range(20):\n",
    "    hwcss.append('tr:nth-child(%d) td:nth-child(1) a' % ii)\n",
    "hwcss = ','.join(str(e) for e in hwcss)\n",
    "homework = driver.find_elements_by_css_selector(hwcss)"
   ]
  },
  {
   "cell_type": "code",
   "execution_count": null,
   "metadata": {},
   "outputs": [],
   "source": [
    "if hw_name in [homework[ii].text for ii in range(len(homework))]:\n",
    "    for jj in range(len(homework)):\n",
    "        if homework[jj].text == hw_name:\n",
    "            ind = jj\n",
    "            break\n",
    "    driver.find_element_by_xpath('//*[@id=\"sect_cont\"]/table/tbody/tr[%d]/td[7]/a/img' % (ind+1)).click()\n",
    "            \n",
    "else:\n",
    "    driver.find_element_by_xpath('//*[@id=\"sect_func\"]/li[1]/a').click()\n",
    "    \n",
    "    hwname = driver.find_element_by_xpath('//*[@id=\"sect_cont\"]/form/table/tbody/tr[2]/td/input')\n",
    "    hwname.send_keys(hw_name)\n",
    "    score = driver.find_element_by_xpath('//*[@id=\"sect_cont\"]/form/table/tbody/tr[3]/td/input')\n",
    "    score.send_keys(hw_score)\n",
    "    \n",
    "    if hw_announce == \"public\":\n",
    "        ind = 2\n",
    "    elif hw_announce == \"private\":\n",
    "        ind = 1\n",
    "    else:\n",
    "        ind = 0\n",
    "\n",
    "    announce = driver.find_element_by_xpath('//*[@id=\"sect_cont\"]/form/table/tbody/tr[6]/td/select/option[%d]' % (ind+1))\n",
    "    announce.click()\n",
    "\n",
    "    try:\n",
    "        WebDriverWait(driver, 3).until(EC.alert_is_present(),\n",
    "                                       'Timed out waiting for PA creation ' +\n",
    "                                       'confirmation popup to appear.')\n",
    "\n",
    "        alert = driver.switch_to.alert.accept()\n",
    "        print(\"alert accepted\")\n",
    "    except TimeoutException:\n",
    "        print(\"no alert\")\n",
    "    \n",
    "    driver.find_element_by_xpath('//*[@id=\"sect_cont\"]/form/p/input[1]').click()\n",
    "    try:\n",
    "        WebDriverWait(driver, 3).until(EC.alert_is_present(),\n",
    "                                       'Timed out waiting for PA creation ' +\n",
    "                                       'confirmation popup to appear.')\n",
    "\n",
    "        alert = driver.switch_to.alert.accept()\n",
    "        print(\"alert accepted\")\n",
    "    except TimeoutException:\n",
    "        print(\"no alert\")\n",
    "        \n",
    "    homework = driver.find_elements_by_css_selector(hwcss)\n",
    "    for jj in range(len(homework)):\n",
    "        if homework[jj].text == hw_name:\n",
    "            ind = jj\n",
    "            break\n",
    "    driver.find_element_by_xpath('//*[@id=\"sect_cont\"]/table/tbody/tr[%d]/td[7]/a/img' % (ind+1)).click()"
   ]
  },
  {
   "cell_type": "code",
   "execution_count": null,
   "metadata": {},
   "outputs": [],
   "source": [
    "driver.find_element_by_xpath('//*[@id=\"sect_cont\"]/form/div[1]/a').click()\n",
    "sleep(1)"
   ]
  },
  {
   "cell_type": "code",
   "execution_count": null,
   "metadata": {},
   "outputs": [],
   "source": [
    "std = driver.find_elements_by_css_selector('input+ td')"
   ]
  },
  {
   "cell_type": "code",
   "execution_count": null,
   "metadata": {},
   "outputs": [],
   "source": [
    "complete = 0\n",
    "incomplete = 0\n",
    "\n",
    "for ii in range(len(std)):\n",
    "    if std[ii].text == data[(ii+1), 4]:\n",
    "        xpath_score = '//*[@id=\"sect_cont\"]/form/table/tbody/tr[%d]/td[6]/input' % (ii+2)\n",
    "        score = driver.find_element_by_xpath(xpath_score)\n",
    "        score.clear()\n",
    "        score.send_keys(data[ii+1, 5])\n",
    "        \n",
    "        xpath_comment = '//*[@id=\"sect_cont\"]/form/table/tbody/tr[%d]/td[7]/textarea' % (ii+2)\n",
    "        comment = driver.find_element_by_xpath(xpath_comment)\n",
    "        comment.clear()\n",
    "        comment.send_keys(data[ii+1, 6])\n",
    "        \n",
    "        complete = complete + 1\n",
    "        sleep(1)\n",
    "        \n",
    "    else:\n",
    "        incomplete = incomplete + 1\n",
    "        \n",
    "print(\"complete\", complete)\n",
    "print(\"incomplete\", incomplete)"
   ]
  },
  {
   "cell_type": "code",
   "execution_count": null,
   "metadata": {},
   "outputs": [],
   "source": [
    "driver.find_element_by_xpath('//*[@id=\"sect_cont\"]/form/p[1]/input').click()"
   ]
  },
  {
   "cell_type": "code",
   "execution_count": null,
   "metadata": {},
   "outputs": [],
   "source": [
    "driver.quit()"
   ]
  },
  {
   "cell_type": "code",
   "execution_count": null,
   "metadata": {},
   "outputs": [],
   "source": []
  },
  {
   "cell_type": "code",
   "execution_count": null,
   "metadata": {},
   "outputs": [],
   "source": []
  }
 ],
 "metadata": {
  "kernelspec": {
   "display_name": "Python 3",
   "language": "python",
   "name": "python3"
  },
  "language_info": {
   "codemirror_mode": {
    "name": "ipython",
    "version": 3
   },
   "file_extension": ".py",
   "mimetype": "text/x-python",
   "name": "python",
   "nbconvert_exporter": "python",
   "pygments_lexer": "ipython3",
   "version": "3.8.3"
  }
 },
 "nbformat": 4,
 "nbformat_minor": 4
}
